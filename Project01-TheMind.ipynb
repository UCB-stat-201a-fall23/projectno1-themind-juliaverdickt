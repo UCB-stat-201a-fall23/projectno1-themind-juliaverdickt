{
 "cells": [
  {
   "cell_type": "markdown",
   "id": "4f2e3179-b4ae-4243-92eb-ed8d86df7c10",
   "metadata": {
    "user_expressions": []
   },
   "source": [
    "## Project No1 - The Mind\n",
    "\n",
    "Refer to the `README.md` for further information about how to play the game and the objectives for this first project. \n",
    "\n",
    "When writing code, we recommend you to be as modular as possible. For example, if you are running multiple experiments for different choices of parameters, it may be convenient to write a function that does one experiment and then make multiple calls to the same function. Follow the _do not repeat yourself_ rule when writing code! "
   ]
  },
  {
   "cell_type": "code",
   "execution_count": 1,
   "id": "130e891e-23be-4df7-8209-9c95c8ec6852",
   "metadata": {},
   "outputs": [],
   "source": [
    "import numpy as np\n",
    "import matplotlib.pyplot as plt"
   ]
  },
  {
   "cell_type": "markdown",
   "id": "d44bf2d2-6100-47ca-a6d3-55911388bc7e",
   "metadata": {
    "user_expressions": []
   },
   "source": [
    "Let's start by creating a function that generates one sample of the game. Feel free to change this code as you find it suitable, for example by changing how the sampling is created or if you want to sample cards with replacement (this could be useful for the last questions)."
   ]
  },
  {
   "cell_type": "code",
   "execution_count": null,
   "id": "e4c2b253-1621-459a-ba5a-a76d6f46a64b",
   "metadata": {},
   "outputs": [],
   "source": [
    "def sample_cards(N, n, k):\n",
    "    \"\"\"\n",
    "    Generates a simulated sample of how the cards are shuffled among players. \n",
    "    \n",
    "    Arguments: \n",
    "        - N : Total number of cards\n",
    "        - n : Number of players\n",
    "        - k : Number of cards per player\n",
    "        \n",
    "    Returns: \n",
    "        - 2D numpy array where each row represent each player and each column their card in ascending order. \n",
    "    \"\"\"\n",
    "    \n",
    "    assert n * k <= N, \"There are not enough cards for all the players!\"\n",
    "    \n",
    "    _cards = np.random.choice(a=np.arange(1, N+1), size=n*k, replace=False)\n",
    "    _cards = _cards.reshape(n,k)\n",
    "    _cards.sort(axis=1)\n",
    "    return _cards"
   ]
  },
  {
   "cell_type": "markdown",
   "id": "efee53b7-0463-4c51-b106-e5d26fdc5a7e",
   "metadata": {
    "user_expressions": []
   },
   "source": [
    "Now we can just generate how cards are distributed among players by simply making a call to this function with the desired parameters. "
   ]
  },
  {
   "cell_type": "code",
   "execution_count": null,
   "id": "1331d9b0-e485-4417-8c7d-4ce407c6e693",
   "metadata": {},
   "outputs": [
    {
     "data": {
      "text/plain": [
       "array([[18, 55, 87],\n",
       "       [43, 57, 89],\n",
       "       [59, 62, 94],\n",
       "       [ 1, 68, 92],\n",
       "       [40, 96, 98],\n",
       "       [ 9, 54, 56]])"
      ]
     },
     "execution_count": 3,
     "metadata": {},
     "output_type": "execute_result"
    }
   ],
   "source": [
    "cards = sample_cards(100, 6, 3)\n",
    "cards"
   ]
  },
  {
   "cell_type": "markdown",
   "id": "2f7cfb3b-b3bc-4064-92a4-35e96df2847d",
   "metadata": {
    "user_expressions": []
   },
   "source": [
    "and access the cards of each player with "
   ]
  },
  {
   "cell_type": "code",
   "execution_count": null,
   "id": "36f4998e-61e0-4acd-b292-b447a0d6a8ed",
   "metadata": {},
   "outputs": [],
   "source": [
    "player0 = cards[0,:]\n",
    "player1 = cards[1,:]\n",
    "player0, player1"
   ]
  },
  {
   "cell_type": "markdown",
   "id": "08d9de1a-3dc6-49ba-b08c-dba034839906",
   "metadata": {
    "user_expressions": []
   },
   "source": [
    "The lowest card in the game is"
   ]
  },
  {
   "cell_type": "code",
   "execution_count": null,
   "id": "f2e54641-0ec3-4451-b8b3-371580ede9b7",
   "metadata": {},
   "outputs": [],
   "source": [
    "np.min(cards)"
   ]
  },
  {
   "cell_type": "code",
   "execution_count": null,
   "id": "2f4766c6-7334-4d24-a0b5-20e5bfd44a63",
   "metadata": {},
   "outputs": [],
   "source": [
    "np.arange(1, 5)"
   ]
  },
  {
   "cell_type": "markdown",
   "id": "755260c8-4ec3-49ed-a783-99629dd51cb8",
   "metadata": {
    "user_expressions": []
   },
   "source": [
    "### 1. What is the distribution of the lowest number? \n",
    "\n",
    "Repeat the sampling of the cards multiple times for the same choice of `N`, `n` and `k` and plot the distribution of the lowest number in the sample. Use an [histogram](https://matplotlib.org/stable/api/_as_gen/matplotlib.pyplot.hist.html) to plot the distribution and set the bins to be the available integer number cards. "
   ]
  },
  {
   "cell_type": "code",
   "execution_count": null,
   "id": "12fe9c17-000b-472a-8380-915f6dfda5df",
   "metadata": {},
   "outputs": [
    {
     "data": {
      "text/plain": [
       "(array([1.875e+03, 1.443e+03, 1.295e+03, 1.049e+03, 8.100e+02, 6.840e+02,\n",
       "        5.420e+02, 4.130e+02, 3.480e+02, 2.860e+02, 2.280e+02, 1.980e+02,\n",
       "        1.710e+02, 1.250e+02, 1.230e+02, 8.800e+01, 6.700e+01, 5.000e+01,\n",
       "        4.100e+01, 3.300e+01, 3.300e+01, 1.400e+01, 2.500e+01, 1.200e+01,\n",
       "        1.200e+01, 9.000e+00, 9.000e+00, 7.000e+00, 1.000e+00, 2.000e+00,\n",
       "        1.000e+00, 1.000e+00, 1.000e+00, 1.000e+00, 3.000e+00]),\n",
       " array([ 1.,  2.,  3.,  4.,  5.,  6.,  7.,  8.,  9., 10., 11., 12., 13.,\n",
       "        14., 15., 16., 17., 18., 19., 20., 21., 22., 23., 24., 25., 26.,\n",
       "        27., 28., 29., 30., 31., 33., 34., 35., 37., 41.]),\n",
       " <BarContainer object of 35 artists>)"
      ]
     },
     "execution_count": 27,
     "metadata": {},
     "output_type": "execute_result"
    },
    {
     "data": {
      "image/png": "[encoded data removed]",
      "text/plain": [
       "<Figure size 640x480 with 1 Axes>"
      ]
     },
     "metadata": {},
     "output_type": "display_data"
    }
   ],
   "source": [
    "# To Do cell\n",
    "\n",
    "#set seed\n",
    "np.random.seed(888)\n",
    "\n",
    "#create empty list\n",
    "lowest_card = []\n",
    "\n",
    "#set up simulation\n",
    "for x in range(0,10000):\n",
    "    cards = sample_cards(100, 6, 3)\n",
    "    \n",
    "    #add lowest card to empty list\n",
    "    lowest_card.append(np.min(cards))\n",
    "\n",
    "#plot\n",
    "plt.hist(lowest_card, bins = np.unique(lowest_card))"
   ]
  },
  {
   "cell_type": "markdown",
   "id": "b9b63c3c-5cd0-4090-910b-06ded98c5497",
   "metadata": {
    "user_expressions": []
   },
   "source": [
    "### 2. What is the distribution of the largest gap?\n",
    "\n",
    "For each simulation, found the largest distance between consecutive numbers in the game. To make this easy, let us first consider the largest gap among the pool of **all** the cards among players (if the largest gap is happening in the hand of one single player, that is ok). This will make the analysis more simple. "
   ]
  },
  {
   "cell_type": "code",
   "execution_count": null,
   "id": "96095727-fa79-4b25-a2d9-900302fd5f5b",
   "metadata": {},
   "outputs": [
    {
     "data": {
      "text/plain": [
       "(array([3.000e+00, 2.600e+01, 7.800e+01, 2.080e+02, 4.340e+02, 7.010e+02,\n",
       "        8.480e+02, 9.670e+02, 1.003e+03, 9.700e+02, 8.790e+02, 7.570e+02,\n",
       "        5.990e+02, 5.480e+02, 4.410e+02, 3.560e+02, 2.720e+02, 2.120e+02,\n",
       "        1.780e+02, 1.240e+02, 9.800e+01, 7.600e+01, 6.100e+01, 4.600e+01,\n",
       "        3.300e+01, 2.700e+01, 1.300e+01, 1.700e+01, 9.000e+00, 2.000e+00,\n",
       "        3.000e+00, 1.000e+00, 3.000e+00, 2.000e+00, 2.000e+00, 3.000e+00]),\n",
       " array([ 7.,  8.,  9., 10., 11., 12., 13., 14., 15., 16., 17., 18., 19.,\n",
       "        20., 21., 22., 23., 24., 25., 26., 27., 28., 29., 30., 31., 32.,\n",
       "        33., 34., 35., 36., 37., 38., 39., 40., 41., 43., 45.]),\n",
       " <BarContainer object of 36 artists>)"
      ]
     },
     "execution_count": 28,
     "metadata": {},
     "output_type": "execute_result"
    },
    {
     "data": {
      "image/png": "[encoded data removed]",
      "text/plain": [
       "<Figure size 640x480 with 1 Axes>"
      ]
     },
     "metadata": {},
     "output_type": "display_data"
    }
   ],
   "source": [
    "# To Do cell\n",
    "\n",
    "#set seed\n",
    "np.random.seed(888)\n",
    "\n",
    "#create empty list\n",
    "biggest_gap = []\n",
    "\n",
    "for x in range(0,10000):\n",
    "    cards = sample_cards(100, 6, 3)\n",
    "    \n",
    "    #flatten cards into 1-D array and sort\n",
    "    all_cards = np.sort(cards.flatten())\n",
    "    \n",
    "    #find difference between each pair of consecutive cards\n",
    "    diffs = np.diff(all_cards)\n",
    "    \n",
    "    #add biggest gap to empty list\n",
    "    biggest_gap.append(np.max(diffs))\n",
    "    \n",
    "biggest_gaps = np.array(biggest_gap)\n",
    "\n",
    "#plot\n",
    "plt.hist(biggest_gaps, bins = np.unique(biggest_gaps))"
   ]
  },
  {
   "cell_type": "markdown",
   "id": "6c0d3228-b157-4b86-a28a-1e5dc629a17c",
   "metadata": {
    "user_expressions": []
   },
   "source": [
    "Repeat the experiment but know compute the largest gap between cards of different players. This is the gap that actually matters for the purposes of the game: what is the maximum number of numbers that a player will have to wait before playing the next card?"
   ]
  },
  {
   "cell_type": "markdown",
   "id": "a439298f-db39-4c15-9d86-2eb8d8fe0280",
   "metadata": {},
   "source": [
    "**The maximum number of numbers that a player will have to wait before playing the next card is 43 according to the below simulation with random seed 888.**"
   ]
  },
  {
   "cell_type": "code",
   "execution_count": null,
   "id": "61def23e-fad7-4f32-a0cf-08a57ae24343",
   "metadata": {},
   "outputs": [
    {
     "name": "stdout",
     "output_type": "stream",
     "text": [
      "43\n"
     ]
    },
    {
     "data": {
      "text/plain": [
       "(array([1.000e+00, 0.000e+00, 0.000e+00, 0.000e+00, 1.000e+00, 0.000e+00,\n",
       "        0.000e+00, 0.000e+00, 0.000e+00, 2.000e+00, 0.000e+00, 0.000e+00,\n",
       "        0.000e+00, 0.000e+00, 9.000e+00, 0.000e+00, 0.000e+00, 0.000e+00,\n",
       "        0.000e+00, 3.600e+01, 0.000e+00, 0.000e+00, 0.000e+00, 8.700e+01,\n",
       "        0.000e+00, 0.000e+00, 0.000e+00, 0.000e+00, 2.120e+02, 0.000e+00,\n",
       "        0.000e+00, 0.000e+00, 0.000e+00, 2.140e+02, 0.000e+00, 0.000e+00,\n",
       "        0.000e+00, 0.000e+00, 4.230e+02, 0.000e+00, 0.000e+00, 0.000e+00,\n",
       "        5.980e+02, 0.000e+00, 0.000e+00, 0.000e+00, 0.000e+00, 8.880e+02,\n",
       "        0.000e+00, 0.000e+00, 0.000e+00, 0.000e+00, 8.180e+02, 0.000e+00,\n",
       "        0.000e+00, 0.000e+00, 0.000e+00, 1.028e+03, 0.000e+00, 0.000e+00,\n",
       "        0.000e+00, 1.008e+03, 0.000e+00, 0.000e+00, 0.000e+00, 0.000e+00,\n",
       "        1.024e+03, 0.000e+00, 0.000e+00, 0.000e+00, 0.000e+00, 4.060e+02,\n",
       "        0.000e+00, 0.000e+00, 0.000e+00, 0.000e+00, 5.910e+02, 0.000e+00,\n",
       "        0.000e+00, 0.000e+00, 4.740e+02, 0.000e+00, 0.000e+00, 0.000e+00,\n",
       "        0.000e+00, 4.500e+02, 0.000e+00, 0.000e+00, 0.000e+00, 0.000e+00,\n",
       "        3.170e+02, 0.000e+00, 0.000e+00, 0.000e+00, 0.000e+00, 3.270e+02,\n",
       "        0.000e+00, 0.000e+00, 0.000e+00, 0.000e+00, 2.640e+02, 0.000e+00,\n",
       "        0.000e+00, 0.000e+00, 2.160e+02, 0.000e+00, 0.000e+00, 0.000e+00,\n",
       "        0.000e+00, 1.190e+02, 0.000e+00, 0.000e+00, 0.000e+00, 0.000e+00,\n",
       "        1.310e+02, 0.000e+00, 0.000e+00, 0.000e+00, 0.000e+00, 8.100e+01,\n",
       "        0.000e+00, 0.000e+00, 0.000e+00, 7.600e+01, 0.000e+00, 0.000e+00,\n",
       "        0.000e+00, 0.000e+00, 5.100e+01, 0.000e+00, 0.000e+00, 0.000e+00,\n",
       "        0.000e+00, 4.900e+01, 0.000e+00, 0.000e+00, 0.000e+00, 0.000e+00,\n",
       "        3.300e+01, 0.000e+00, 0.000e+00, 0.000e+00, 2.800e+01, 0.000e+00,\n",
       "        0.000e+00, 0.000e+00, 0.000e+00, 6.000e+00, 0.000e+00, 0.000e+00,\n",
       "        0.000e+00, 0.000e+00, 8.000e+00, 0.000e+00, 0.000e+00, 0.000e+00,\n",
       "        0.000e+00, 7.000e+00, 0.000e+00, 0.000e+00, 0.000e+00, 6.000e+00,\n",
       "        0.000e+00, 0.000e+00, 0.000e+00, 0.000e+00, 2.000e+00, 0.000e+00,\n",
       "        0.000e+00, 0.000e+00, 0.000e+00, 1.000e+00, 0.000e+00, 0.000e+00,\n",
       "        0.000e+00, 0.000e+00, 1.000e+00, 0.000e+00, 0.000e+00, 0.000e+00,\n",
       "        3.000e+00, 0.000e+00, 0.000e+00, 0.000e+00, 0.000e+00, 2.000e+00,\n",
       "        0.000e+00, 0.000e+00, 0.000e+00, 0.000e+00, 1.000e+00, 0.000e+00,\n",
       "        0.000e+00, 0.000e+00, 0.000e+00, 0.000e+00, 0.000e+00, 0.000e+00,\n",
       "        0.000e+00, 1.000e+00]),\n",
       " array([ 1.  ,  1.21,  1.42,  1.63,  1.84,  2.05,  2.26,  2.47,  2.68,\n",
       "         2.89,  3.1 ,  3.31,  3.52,  3.73,  3.94,  4.15,  4.36,  4.57,\n",
       "         4.78,  4.99,  5.2 ,  5.41,  5.62,  5.83,  6.04,  6.25,  6.46,\n",
       "         6.67,  6.88,  7.09,  7.3 ,  7.51,  7.72,  7.93,  8.14,  8.35,\n",
       "         8.56,  8.77,  8.98,  9.19,  9.4 ,  9.61,  9.82, 10.03, 10.24,\n",
       "        10.45, 10.66, 10.87, 11.08, 11.29, 11.5 , 11.71, 11.92, 12.13,\n",
       "        12.34, 12.55, 12.76, 12.97, 13.18, 13.39, 13.6 , 13.81, 14.02,\n",
       "        14.23, 14.44, 14.65, 14.86, 15.07, 15.28, 15.49, 15.7 , 15.91,\n",
       "        16.12, 16.33, 16.54, 16.75, 16.96, 17.17, 17.38, 17.59, 17.8 ,\n",
       "        18.01, 18.22, 18.43, 18.64, 18.85, 19.06, 19.27, 19.48, 19.69,\n",
       "        19.9 , 20.11, 20.32, 20.53, 20.74, 20.95, 21.16, 21.37, 21.58,\n",
       "        21.79, 22.  , 22.21, 22.42, 22.63, 22.84, 23.05, 23.26, 23.47,\n",
       "        23.68, 23.89, 24.1 , 24.31, 24.52, 24.73, 24.94, 25.15, 25.36,\n",
       "        25.57, 25.78, 25.99, 26.2 , 26.41, 26.62, 26.83, 27.04, 27.25,\n",
       "        27.46, 27.67, 27.88, 28.09, 28.3 , 28.51, 28.72, 28.93, 29.14,\n",
       "        29.35, 29.56, 29.77, 29.98, 30.19, 30.4 , 30.61, 30.82, 31.03,\n",
       "        31.24, 31.45, 31.66, 31.87, 32.08, 32.29, 32.5 , 32.71, 32.92,\n",
       "        33.13, 33.34, 33.55, 33.76, 33.97, 34.18, 34.39, 34.6 , 34.81,\n",
       "        35.02, 35.23, 35.44, 35.65, 35.86, 36.07, 36.28, 36.49, 36.7 ,\n",
       "        36.91, 37.12, 37.33, 37.54, 37.75, 37.96, 38.17, 38.38, 38.59,\n",
       "        38.8 , 39.01, 39.22, 39.43, 39.64, 39.85, 40.06, 40.27, 40.48,\n",
       "        40.69, 40.9 , 41.11, 41.32, 41.53, 41.74, 41.95, 42.16, 42.37,\n",
       "        42.58, 42.79, 43.  ]),\n",
       " <BarContainer object of 200 artists>)"
      ]
     },
     "execution_count": 70,
     "metadata": {},
     "output_type": "execute_result"
    },
    {
     "data": {
      "image/png": "[encoded data removed]",
      "text/plain": [
       "<Figure size 640x480 with 1 Axes>"
      ]
     },
     "metadata": {},
     "output_type": "display_data"
    }
   ],
   "source": [
    "#To do cell\n",
    "\n",
    "#set seed\n",
    "np.random.seed(888)\n",
    "\n",
    "\n",
    "#create empty list\n",
    "biggest_gapbtwn = []\n",
    "\n",
    "#defining n,k, etc. this way so it's easier to repeat later\n",
    "n = 6\n",
    "k = 3\n",
    "big_N = 100\n",
    "cards_ig = k*n\n",
    "\n",
    "for x in range(0,10000):\n",
    "    #sample\n",
    "    cards = sample_cards(big_N, n, k)\n",
    "    \n",
    "    #flatten to 1-D array and sort\n",
    "    all_cards = np.sort(cards.flatten())\n",
    "    \n",
    "    diffs=[]\n",
    "    \n",
    "    #looping through the flattened array\n",
    "    for i in range(0,cards_ig-1):  \n",
    "        #calculating difference between each consecutive pair\n",
    "        a = all_cards[i+1]\n",
    "        b = all_cards[i]\n",
    "        diff = a-b \n",
    "        #create empty list\n",
    "        logic_test = []\n",
    "        #loop through consecutive pairs \n",
    "        for i in range(0,len(cards)):  \n",
    "            #check if consecutive pairs are in same person's hand\n",
    "            if (a & b in cards[i,:]):\n",
    "                logic_test.append(\"invalid\")\n",
    "            else: \n",
    "                logic_test.append(\"valid\")\n",
    "        #if the pair is not in one player's hand, save the difference\n",
    "        if (\"invalid\" not in logic_test):\n",
    "            diffs.append(diff)       \n",
    "    biggest_gapbtwn.append(np.max(diffs))\n",
    "\n",
    "biggest_gapsbtwn = np.array(biggest_gapbtwn)\n",
    "\n",
    "#print largest consecutive difference\n",
    "print(np.max(biggest_gapsbtwn))\n",
    "\n",
    "#plot\n",
    "plt.hist(biggest_gapsbtwn, bins = 200)"
   ]
  },
  {
   "cell_type": "markdown",
   "id": "d16b0bb5-9d21-4b46-99ec-15b385e5214a",
   "metadata": {
    "user_expressions": []
   },
   "source": [
    "How does these compare? Run simulations for different choices of the number of cards and players and see when the difference between these two is larger. \n",
    "\n",
    "Compute the mean of the two distributions. When this difference is larger? How does this depends of the total number of players `n`?"
   ]
  },
  {
   "cell_type": "markdown",
   "id": "275c37aa-e725-4b82-abb6-174f52def73d",
   "metadata": {},
   "source": [
    "**The reality is that the two simulations I ran above are not drastically different. The second simulation appears to be slightly less skewed. The means also appear to be different and the variance doesn't seem to vastly differ.**\n",
    "\n",
    "**Below, I run 3 comparisons between simulations that compare across all cards and simulations that compare between players. Visually, the graphs seems to grow more similar as n goes up while k stays constant. When k increases, but n is constant, the graphs also grow visually similar, but not as much as when just n increases**\n",
    "\n",
    "**After all of my histograms, I print a table of means of the two distributions with different n and k values.**\n",
    "\n",
    "**There are a couple of interesting facets I can note. First, the difference in means grows as n and k shrink. Second, the means of the distribution of gaps that excludes gaps within a single player's hand have consistently lower means.*** \n",
    "\n",
    "**Intuitively what might be happening is that adding more cards to play reduces the greatest consecutive difference between players. First, there are more cards in play to begin with, there are fewer \"undealt\" cards, which reduces the space between cards. With smaller k, there is a higher chance of a bigger gap. Furthermore, with more cards in a persons hand, there are less \"valid\" consecutive gaps between players because many of the gaps may be within a single player's hand.**\n",
    "\n",
    "**This might also be said for changing n. When n shrinks, the number of cards in play also reduces. This naturally makes the mean higher. However, unlike increasing k, increasing n does not increase the number of gaps contained within a single player's hand. Thus, the biggest gap is more dependent on the total number of cards at play. This might be why the two distributions are more similar when only n changes. The simulation that takes into account all cards in the game relies more on the total number of cards at play, which is similar to the role that changing n plays**"
   ]
  },
  {
   "cell_type": "code",
   "execution_count": null,
   "id": "334b2ade-fa30-48d4-b74f-be8553be7212",
   "metadata": {},
   "outputs": [
    {
     "name": "stdout",
     "output_type": "stream",
     "text": [
      "13\n"
     ]
    },
    {
     "data": {
      "text/plain": [
       "(array([1.400e+01, 3.350e+02, 3.025e+03, 2.531e+03, 2.439e+03, 1.031e+03,\n",
       "        4.690e+02, 7.800e+01, 5.400e+01, 1.600e+01, 5.000e+00, 3.000e+00]),\n",
       " array([ 1.,  2.,  3.,  4.,  5.,  6.,  7.,  8.,  9., 10., 11., 12., 13.]),\n",
       " <BarContainer object of 12 artists>)"
      ]
     },
     "execution_count": 75,
     "metadata": {},
     "output_type": "execute_result"
    },
    {
     "data": {
      "image/png": "[encoded data removed]",
      "text/plain": [
       "<Figure size 640x480 with 1 Axes>"
      ]
     },
     "metadata": {},
     "output_type": "display_data"
    }
   ],
   "source": [
    "# To Do cell\n",
    "\n",
    "#between players\n",
    "biggest_gapbtwn2 = []\n",
    "\n",
    "np.random.seed(888)\n",
    "\n",
    "n = 6\n",
    "k = 10\n",
    "big_N = 100\n",
    "cards_ig = k*n\n",
    "\n",
    "for x in range(0,10000):\n",
    "    cards = sample_cards(big_N, n, k)\n",
    "    all_cards = np.sort(cards.flatten())\n",
    "    diffs=[]\n",
    "    for i in range(0,cards_ig-1):\n",
    "        a = all_cards[i+1]\n",
    "        b = all_cards[i]\n",
    "        diff = a-b\n",
    "        logic_test = []\n",
    "        for i in range(0,len(cards)):\n",
    "            if (a & b in cards[i,:]):\n",
    "                logic_test.append(\"invalid\")\n",
    "            else: \n",
    "                logic_test.append(\"valid\")\n",
    "        if (\"invalid\" not in logic_test):\n",
    "            diffs.append(diff)\n",
    "    biggest_gapbtwn2.append(np.max(diffs))\n",
    "\n",
    "biggest_gapsbtwn2 = np.array(biggest_gapbtwn2)\n",
    "print(np.max(biggest_gapsbtwn2))\n",
    "plt.hist(biggest_gapsbtwn2,np.unique(biggest_gapsbtwn2))\n"
   ]
  },
  {
   "cell_type": "code",
   "execution_count": null,
   "id": "a93e3845-52d7-440d-8007-def66c76a8a6",
   "metadata": {},
   "outputs": [
    {
     "data": {
      "text/plain": [
       "(array([  42., 1776., 3842., 2558., 1171.,  386.,  151.,   50.,   15.,\n",
       "           9.]),\n",
       " array([ 3.,  4.,  5.,  6.,  7.,  8.,  9., 10., 11., 12., 13.]),\n",
       " <BarContainer object of 10 artists>)"
      ]
     },
     "execution_count": 31,
     "metadata": {},
     "output_type": "execute_result"
    },
    {
     "data": {
      "image/png": "[encoded data removed]",
      "text/plain": [
       "<Figure size 640x480 with 1 Axes>"
      ]
     },
     "metadata": {},
     "output_type": "display_data"
    }
   ],
   "source": [
    "#accross all cards\n",
    "\n",
    "#set seed\n",
    "np.random.seed(888)\n",
    "\n",
    "#create empty list\n",
    "biggest_gap2 = []\n",
    "\n",
    "for x in range(0,10000):\n",
    "    cards = sample_cards(100, 6, 10)\n",
    "    \n",
    "    #flatten cards into 1-D array and sort\n",
    "    all_cards = np.sort(cards.flatten())\n",
    "    \n",
    "    #find difference between each pair of consecutive cards\n",
    "    diffs = np.diff(all_cards)\n",
    "    \n",
    "    #add biggest gap to empty list\n",
    "    biggest_gap2.append(np.max(diffs))\n",
    "    \n",
    "biggest_gaps2 = np.array(biggest_gap2)\n",
    "\n",
    "#plot\n",
    "plt.hist(biggest_gaps2, bins = np.unique(biggest_gaps2))"
   ]
  },
  {
   "cell_type": "code",
   "execution_count": null,
   "id": "ef9136e6-f220-4fc2-b39a-1bfa48b151e3",
   "metadata": {},
   "outputs": [
    {
     "name": "stdout",
     "output_type": "stream",
     "text": [
      "18\n"
     ]
    },
    {
     "data": {
      "text/plain": [
       "(array([1.200e+01, 3.690e+02, 9.780e+02, 2.325e+03, 2.335e+03, 2.125e+03,\n",
       "        6.470e+02, 5.910e+02, 2.800e+02, 1.780e+02, 6.500e+01, 4.900e+01,\n",
       "        2.700e+01, 1.300e+01, 1.000e+00, 5.000e+00]),\n",
       " array([ 2.,  3.,  4.,  5.,  6.,  7.,  8.,  9., 10., 11., 12., 13., 14.,\n",
       "        15., 16., 17., 18.]),\n",
       " <BarContainer object of 16 artists>)"
      ]
     },
     "execution_count": 32,
     "metadata": {},
     "output_type": "execute_result"
    },
    {
     "data": {
      "image/png": "[encoded data removed]",
      "text/plain": [
       "<Figure size 640x480 with 1 Axes>"
      ]
     },
     "metadata": {},
     "output_type": "display_data"
    }
   ],
   "source": [
    "#To do cell\n",
    "\n",
    "#between players\n",
    "biggest_gapbtwn3 = []\n",
    "\n",
    "np.random.seed(888)\n",
    "\n",
    "n = 15\n",
    "k = 3\n",
    "big_N = 100\n",
    "cards_ig = k*n\n",
    "\n",
    "for x in range(0,10000):\n",
    "    cards = sample_cards(big_N, n, k)\n",
    "    all_cards = np.sort(cards.flatten())\n",
    "    diffs=[]\n",
    "    for i in range(0,cards_ig-1):\n",
    "        a = all_cards[i+1]\n",
    "        b = all_cards[i]\n",
    "        diff = a-b\n",
    "        logic_test = []\n",
    "        for i in range(0,len(cards)):\n",
    "            if (a & b in cards[i,:]):\n",
    "                logic_test.append(\"invalid\")\n",
    "            else: \n",
    "                logic_test.append(\"valid\")\n",
    "        if (\"invalid\" not in logic_test):\n",
    "            diffs.append(diff)\n",
    "    biggest_gapbtwn3.append(np.max(diffs))\n",
    "\n",
    "biggest_gapsbtwn3 = np.array(biggest_gapbtwn3)\n",
    "print(np.max(biggest_gapsbtwn3))\n",
    "plt.hist(biggest_gapsbtwn3, bins = np.unique(biggest_gapsbtwn3))"
   ]
  },
  {
   "cell_type": "code",
   "execution_count": null,
   "id": "eeb7ebd0-3ad6-45b9-924d-538eba57a30e",
   "metadata": {},
   "outputs": [
    {
     "data": {
      "text/plain": [
       "(array([  14.,  592., 2128., 2634., 1995., 1264.,  649.,  345.,  178.,\n",
       "         102.,   55.,   28.,    7.,    9.]),\n",
       " array([ 4.,  5.,  6.,  7.,  8.,  9., 10., 11., 12., 13., 14., 15., 16.,\n",
       "        17., 18.]),\n",
       " <BarContainer object of 14 artists>)"
      ]
     },
     "execution_count": 33,
     "metadata": {},
     "output_type": "execute_result"
    },
    {
     "data": {
      "image/png": "[encoded data removed]",
      "text/plain": [
       "<Figure size 640x480 with 1 Axes>"
      ]
     },
     "metadata": {},
     "output_type": "display_data"
    }
   ],
   "source": [
    "#accross all cards\n",
    "\n",
    "#set seed\n",
    "np.random.seed(888)\n",
    "\n",
    "#create empty list\n",
    "biggest_gap3 = []\n",
    "\n",
    "for x in range(0,10000):\n",
    "    cards = sample_cards(100, 15, 3)\n",
    "    \n",
    "    #flatten cards into 1-D array and sort\n",
    "    all_cards = np.sort(cards.flatten())\n",
    "    \n",
    "    #find difference between each pair of consecutive cards\n",
    "    diffs = np.diff(all_cards)\n",
    "    \n",
    "    #add biggest gap to empty list\n",
    "    biggest_gap3.append(np.max(diffs))\n",
    "    \n",
    "biggest_gaps3 = np.array(biggest_gap3)\n",
    "\n",
    "#plot\n",
    "plt.hist(biggest_gaps3, bins = np.unique(biggest_gaps3))"
   ]
  },
  {
   "cell_type": "code",
   "execution_count": null,
   "id": "67480597-8848-45b4-8216-5ae8f5c09a79",
   "metadata": {},
   "outputs": [
    {
     "name": "stdout",
     "output_type": "stream",
     "text": [
      "70\n"
     ]
    },
    {
     "data": {
      "text/plain": [
       "(array([  2.,  10.,  20.,  11.,  23.,  34.,  59.,  43.,  67.,  87., 132.,\n",
       "        133., 204., 247., 269., 172., 333., 312., 423., 352., 475., 499.,\n",
       "        541., 382., 487., 417., 431., 368., 403., 391., 346., 158., 226.,\n",
       "        186., 233., 164., 159., 130., 164., 104., 125.,  92.,  98.,  56.,\n",
       "         63.,  63.,  47.,  34.,  27.,  26.,  31.,  23.,  18.,  20.,  11.,\n",
       "         15.,  10.,   5.,  12.,   4.,   9.,   4.,   3.,   1.,   2.,   4.]),\n",
       " array([ 1.,  2.,  3.,  4.,  5.,  6.,  7.,  8.,  9., 10., 11., 12., 13.,\n",
       "        14., 15., 16., 17., 18., 19., 20., 21., 22., 23., 24., 25., 26.,\n",
       "        27., 28., 29., 30., 31., 32., 33., 34., 35., 36., 37., 38., 39.,\n",
       "        40., 41., 42., 43., 44., 45., 46., 47., 48., 49., 50., 51., 52.,\n",
       "        53., 54., 55., 56., 57., 58., 59., 60., 61., 62., 63., 65., 66.,\n",
       "        67., 70.]),\n",
       " <BarContainer object of 66 artists>)"
      ]
     },
     "execution_count": 34,
     "metadata": {},
     "output_type": "execute_result"
    },
    {
     "data": {
      "image/png": "[encoded data removed]",
      "text/plain": [
       "<Figure size 640x480 with 1 Axes>"
      ]
     },
     "metadata": {},
     "output_type": "display_data"
    }
   ],
   "source": [
    "#between players\n",
    "biggest_gapbtwn4 = []\n",
    "\n",
    "np.random.seed(888)\n",
    "\n",
    "n = 4\n",
    "k = 2\n",
    "big_N = 100\n",
    "cards_ig = k*n\n",
    "\n",
    "for x in range(0,10000):\n",
    "    cards = sample_cards(big_N, n, k)\n",
    "    all_cards = np.sort(cards.flatten())\n",
    "    diffs=[]\n",
    "    for i in range(0,cards_ig-1):\n",
    "        a = all_cards[i+1]\n",
    "        b = all_cards[i]\n",
    "        diff = a-b\n",
    "        logic_test = []\n",
    "        for i in range(0,len(cards)):\n",
    "            if (a & b in cards[i,:]):\n",
    "                logic_test.append(\"invalid\")\n",
    "            else: \n",
    "                logic_test.append(\"valid\")\n",
    "        if (\"invalid\" not in logic_test):\n",
    "            diffs.append(diff)\n",
    "    biggest_gapbtwn4.append(np.max(diffs))\n",
    "\n",
    "biggest_gapsbtwn4 = np.array(biggest_gapbtwn4)\n",
    "print(np.max(biggest_gapsbtwn4))\n",
    "plt.hist(biggest_gapsbtwn4, bins = np.unique(biggest_gapsbtwn4))"
   ]
  },
  {
   "cell_type": "code",
   "execution_count": null,
   "id": "8f5907ba-270d-4528-a700-cb71d4816d03",
   "metadata": {},
   "outputs": [
    {
     "data": {
      "text/plain": [
       "(array([  2.,   4.,   9.,  15.,  22.,  38.,  70.,  98., 121., 162., 245.,\n",
       "        280., 334., 380., 436., 484., 499., 497., 526., 486., 469., 449.,\n",
       "        433., 455., 370., 351., 329., 264., 290., 223., 197., 163., 183.,\n",
       "        145., 148., 116., 111.,  68.,  78.,  73.,  54.,  50.,  32.,  32.,\n",
       "         33.,  26.,  18.,  23.,  14.,  17.,  14.,   5.,  13.,   6.,  10.,\n",
       "          4.,   3.,   9.,   5.,   2.,   3.,   2.,   2.]),\n",
       " array([ 7.,  8.,  9., 10., 11., 12., 13., 14., 15., 16., 17., 18., 19.,\n",
       "        20., 21., 22., 23., 24., 25., 26., 27., 28., 29., 30., 31., 32.,\n",
       "        33., 34., 35., 36., 37., 38., 39., 40., 41., 42., 43., 44., 45.,\n",
       "        46., 47., 48., 49., 50., 51., 52., 53., 54., 55., 56., 57., 58.,\n",
       "        59., 60., 61., 62., 63., 64., 65., 66., 67., 68., 70., 79.]),\n",
       " <BarContainer object of 63 artists>)"
      ]
     },
     "execution_count": 35,
     "metadata": {},
     "output_type": "execute_result"
    },
    {
     "data": {
      "image/png": "[encoded data removed]",
      "text/plain": [
       "<Figure size 640x480 with 1 Axes>"
      ]
     },
     "metadata": {},
     "output_type": "display_data"
    }
   ],
   "source": [
    "#accross all cards\n",
    "\n",
    "#set seed\n",
    "np.random.seed(888)\n",
    "\n",
    "#create empty list\n",
    "biggest_gap4 = []\n",
    "\n",
    "for x in range(0,10000):\n",
    "    cards = sample_cards(100, 4, 2)\n",
    "    \n",
    "    #flatten cards into 1-D array and sort\n",
    "    all_cards = np.sort(cards.flatten())\n",
    "    \n",
    "    #find difference between each pair of consecutive cards\n",
    "    diffs = np.diff(all_cards)\n",
    "    \n",
    "    #add biggest gap to empty list\n",
    "    biggest_gap4.append(np.max(diffs))\n",
    "    \n",
    "biggest_gaps4 = np.array(biggest_gap4)\n",
    "\n",
    "#plot\n",
    "plt.hist(biggest_gaps4, bins = np.unique(biggest_gaps4))"
   ]
  },
  {
   "cell_type": "code",
   "execution_count": null,
   "id": "b9770989-f620-4e14-ab9e-289f71d882bb",
   "metadata": {},
   "outputs": [
    {
     "data": {
      "text/html": [
       "<div>\n",
       "<style scoped>\n",
       "    .dataframe tbody tr th:only-of-type {\n",
       "        vertical-align: middle;\n",
       "    }\n",
       "\n",
       "    .dataframe tbody tr th {\n",
       "        vertical-align: top;\n",
       "    }\n",
       "\n",
       "    .dataframe thead th {\n",
       "        text-align: right;\n",
       "    }\n",
       "</style>\n",
       "<table border=\"1\" class=\"dataframe\">\n",
       "  <thead>\n",
       "    <tr style=\"text-align: right;\">\n",
       "      <th></th>\n",
       "      <th>acc_cards</th>\n",
       "      <th>acc_play</th>\n",
       "      <th>ns</th>\n",
       "      <th>ks</th>\n",
       "    </tr>\n",
       "  </thead>\n",
       "  <tbody>\n",
       "    <tr>\n",
       "      <th>0</th>\n",
       "      <td>17.0108</td>\n",
       "      <td>15.0086</td>\n",
       "      <td>6</td>\n",
       "      <td>3</td>\n",
       "    </tr>\n",
       "    <tr>\n",
       "      <th>1</th>\n",
       "      <td>5.5208</td>\n",
       "      <td>4.2909</td>\n",
       "      <td>6</td>\n",
       "      <td>10</td>\n",
       "    </tr>\n",
       "    <tr>\n",
       "      <th>2</th>\n",
       "      <td>7.6762</td>\n",
       "      <td>6.2898</td>\n",
       "      <td>15</td>\n",
       "      <td>3</td>\n",
       "    </tr>\n",
       "    <tr>\n",
       "      <th>3</th>\n",
       "      <td>28.3798</td>\n",
       "      <td>25.8297</td>\n",
       "      <td>4</td>\n",
       "      <td>2</td>\n",
       "    </tr>\n",
       "  </tbody>\n",
       "</table>\n",
       "</div>"
      ],
      "text/plain": [
       "   acc_cards  acc_play  ns  ks\n",
       "0    17.0108   15.0086   6   3\n",
       "1     5.5208    4.2909   6  10\n",
       "2     7.6762    6.2898  15   3\n",
       "3    28.3798   25.8297   4   2"
      ]
     },
     "execution_count": 36,
     "metadata": {},
     "output_type": "execute_result"
    }
   ],
   "source": [
    "import pandas as pd\n",
    "#means of simulation accross all cards\n",
    "acc_cards = np.array([np.mean(biggest_gaps),\n",
    "                      np.mean(biggest_gaps2),\n",
    "                      np.mean(biggest_gaps3),\n",
    "                      np.mean(biggest_gaps4)])\n",
    "\n",
    "#means of simulation accross players\n",
    "acc_play = np.array([np.mean(biggest_gapsbtwn),\n",
    "                     np.mean(biggest_gapsbtwn2),\n",
    "                     np.mean(biggest_gapsbtwn3),\n",
    "                     np.mean(biggest_gapsbtwn4)])\n",
    "\n",
    "ns = np.array([6,6,15,4])\n",
    "ks = np.array([3,10,3,2])\n",
    "\n",
    "table_means = pd.DataFrame({'acc_cards':acc_cards,\n",
    "                            'acc_play':acc_play,\n",
    "                           'ns': ns,\n",
    "                           'ks':ks})\n",
    "table_means\n"
   ]
  },
  {
   "cell_type": "markdown",
   "id": "c14b7f5b-23b7-4a73-b67b-8d4433fae9e2",
   "metadata": {
    "user_expressions": []
   },
   "source": [
    "### 3. Deriving distributions\n",
    "\n",
    "For this section, we are going to use the random sampling generating process from _The Mind_ to investigate and find some familiar distributions."
   ]
  },
  {
   "cell_type": "markdown",
   "id": "366396c5-7a5f-461c-a86e-0a5b528e3791",
   "metadata": {
    "user_expressions": []
   },
   "source": [
    "### 3.1. Binomial Distribution \n",
    "\n",
    "Can you think about any way of deriving the binomial distribution? Based on the output of one single game (function `sample_game()`), try to derive something that has Binomial distribution for certain parameter $p$. Run multiple simulations to see this and compare the obtained empirical distribution with the distribution of the binomial distribution (check `numpy.random.binomial` and `scipy.stats.binom`). "
   ]
  },
  {
   "cell_type": "code",
   "execution_count": null,
   "id": "14862b42-3575-412e-8c4a-1f298feffb03",
   "metadata": {},
   "outputs": [],
   "source": [
    "def sample_cards_wr(N, n, k):\n",
    "    \"\"\"\n",
    "    Generates a simulated sample of how the cards are shuffled among players. \n",
    "    \n",
    "    Arguments: \n",
    "        - N : Total number of cards\n",
    "        - n : Number of players\n",
    "        - k : Number of cards per player\n",
    "        \n",
    "    Returns: \n",
    "        - 2D numpy array where each row represent each player and each column their card in ascending order. \n",
    "    \"\"\"\n",
    "    \n",
    "    assert n * k <= N, \"There are not enough cards for all the players!\"\n",
    "    \n",
    "    _cards = np.random.choice(a=np.arange(1, N+1), size=n*k, replace=True)\n",
    "    _cards = _cards.reshape(n,k)\n",
    "    _cards.sort(axis=1)\n",
    "    return _cards"
   ]
  },
  {
   "cell_type": "code",
   "execution_count": null,
   "id": "a19d60be-1254-4b20-a2a6-bfbca103f41c",
   "metadata": {},
   "outputs": [
    {
     "data": {
      "text/plain": [
       "([<matplotlib.axis.XTick at 0x7fd19267c4c0>,\n",
       "  <matplotlib.axis.XTick at 0x7fd19267c490>,\n",
       "  <matplotlib.axis.XTick at 0x7fd1926be0a0>,\n",
       "  <matplotlib.axis.XTick at 0x7fd19266a4c0>,\n",
       "  <matplotlib.axis.XTick at 0x7fd192444a00>,\n",
       "  <matplotlib.axis.XTick at 0x7fd1924442e0>,\n",
       "  <matplotlib.axis.XTick at 0x7fd192440a00>,\n",
       "  <matplotlib.axis.XTick at 0x7fd1924445b0>,\n",
       "  <matplotlib.axis.XTick at 0x7fd192655cd0>,\n",
       "  <matplotlib.axis.XTick at 0x7fd1924447c0>,\n",
       "  <matplotlib.axis.XTick at 0x7fd192436a90>,\n",
       "  <matplotlib.axis.XTick at 0x7fd192436f70>,\n",
       "  <matplotlib.axis.XTick at 0x7fd1924367f0>,\n",
       "  <matplotlib.axis.XTick at 0x7fd192639e80>],\n",
       " [Text(0, 0, '0'),\n",
       "  Text(1, 0, '1'),\n",
       "  Text(2, 0, '2'),\n",
       "  Text(3, 0, '3'),\n",
       "  Text(4, 0, '4'),\n",
       "  Text(5, 0, '5'),\n",
       "  Text(6, 0, '6'),\n",
       "  Text(7, 0, '7'),\n",
       "  Text(8, 0, '8'),\n",
       "  Text(9, 0, '9'),\n",
       "  Text(10, 0, '10'),\n",
       "  Text(11, 0, '11'),\n",
       "  Text(12, 0, '12'),\n",
       "  Text(13, 0, '13')])"
      ]
     },
     "execution_count": 56,
     "metadata": {},
     "output_type": "execute_result"
    },
    {
     "data": {
      "image/png": "[encoded data removed]",
      "text/plain": [
       "<Figure size 640x480 with 1 Axes>"
      ]
     },
     "metadata": {},
     "output_type": "display_data"
    }
   ],
   "source": [
    "# To Do cell\n",
    "\n",
    "#In 18 trials (cards dealt in one game) \n",
    "#with replacement, \n",
    "#the number of occurrences of\n",
    "#even numbers greater than 50\n",
    "#follows a binomial distribution\n",
    "\n",
    "#in this case the parameter p = 1/4\n",
    "\n",
    "np.random.seed(888)\n",
    "\n",
    "successes = []\n",
    "\n",
    "for x in range(0,10000):\n",
    "    cards = sample_cards_wr(100, 6, 3)\n",
    "    new_cards = cards.flatten()\n",
    "    count = 0\n",
    "    for i in range(0,len(new_cards)):\n",
    "        if(new_cards[i]>50 and new_cards[i]%2==0):\n",
    "            count = count +1\n",
    "        else:\n",
    "            count = count +0\n",
    "    successes.append(count)\n",
    "\n",
    "plt.hist(successes,bins = np.arange(0,14,1))\n",
    "plt.xticks(np.arange(0,14,1))\n"
   ]
  },
  {
   "cell_type": "code",
   "execution_count": null,
   "id": "ef54e83c-5202-48ab-a6ea-988d5986133a",
   "metadata": {},
   "outputs": [
    {
     "data": {
      "text/plain": [
       "([<matplotlib.axis.XTick at 0x7fd1923d93d0>,\n",
       "  <matplotlib.axis.XTick at 0x7fd1923d93a0>,\n",
       "  <matplotlib.axis.XTick at 0x7fd1923cadc0>,\n",
       "  <matplotlib.axis.XTick at 0x7fd19240aeb0>,\n",
       "  <matplotlib.axis.XTick at 0x7fd1925e5a60>,\n",
       "  <matplotlib.axis.XTick at 0x7fd1925e5280>,\n",
       "  <matplotlib.axis.XTick at 0x7fd1925e58b0>,\n",
       "  <matplotlib.axis.XTick at 0x7fd1925ed940>,\n",
       "  <matplotlib.axis.XTick at 0x7fd1925e5df0>,\n",
       "  <matplotlib.axis.XTick at 0x7fd1925f6940>,\n",
       "  <matplotlib.axis.XTick at 0x7fd1925f60a0>,\n",
       "  <matplotlib.axis.XTick at 0x7fd1925f6be0>,\n",
       "  <matplotlib.axis.XTick at 0x7fd1925d8e20>,\n",
       "  <matplotlib.axis.XTick at 0x7fd1925fdca0>],\n",
       " [Text(0, 0, '0'),\n",
       "  Text(1, 0, '1'),\n",
       "  Text(2, 0, '2'),\n",
       "  Text(3, 0, '3'),\n",
       "  Text(4, 0, '4'),\n",
       "  Text(5, 0, '5'),\n",
       "  Text(6, 0, '6'),\n",
       "  Text(7, 0, '7'),\n",
       "  Text(8, 0, '8'),\n",
       "  Text(9, 0, '9'),\n",
       "  Text(10, 0, '10'),\n",
       "  Text(11, 0, '11'),\n",
       "  Text(12, 0, '12'),\n",
       "  Text(13, 0, '13')])"
      ]
     },
     "execution_count": 57,
     "metadata": {},
     "output_type": "execute_result"
    },
    {
     "data": {
      "image/png": "[encoded data removed]",
      "text/plain": [
       "<Figure size 640x480 with 1 Axes>"
      ]
     },
     "metadata": {},
     "output_type": "display_data"
    }
   ],
   "source": [
    "np.random.seed(888)\n",
    "\n",
    "s = np.random.binomial(18, 0.25,10000)\n",
    "plt.hist(s, bins = np.arange(0,14,1))\n",
    "plt.xticks(np.arange(0,14,1))\n"
   ]
  },
  {
   "cell_type": "code",
   "execution_count": null,
   "id": "c649d137-8211-4eb4-8aab-9835b7df0cc0",
   "metadata": {},
   "outputs": [
    {
     "data": {
      "text/plain": [
       "([<matplotlib.axis.XTick at 0x7fd1925476d0>,\n",
       "  <matplotlib.axis.XTick at 0x7fd1925476a0>,\n",
       "  <matplotlib.axis.XTick at 0x7fd192547190>,\n",
       "  <matplotlib.axis.XTick at 0x7fd1925fd4f0>,\n",
       "  <matplotlib.axis.XTick at 0x7fd192515a00>,\n",
       "  <matplotlib.axis.XTick at 0x7fd1925155b0>,\n",
       "  <matplotlib.axis.XTick at 0x7fd19251ba00>,\n",
       "  <matplotlib.axis.XTick at 0x7fd19251b160>,\n",
       "  <matplotlib.axis.XTick at 0x7fd192520a00>,\n",
       "  <matplotlib.axis.XTick at 0x7fd19251b490>,\n",
       "  <matplotlib.axis.XTick at 0x7fd1925204c0>,\n",
       "  <matplotlib.axis.XTick at 0x7fd19252d580>,\n",
       "  <matplotlib.axis.XTick at 0x7fd19252dd60>,\n",
       "  <matplotlib.axis.XTick at 0x7fd192538580>],\n",
       " [Text(0, 0, '0'),\n",
       "  Text(1, 0, '1'),\n",
       "  Text(2, 0, '2'),\n",
       "  Text(3, 0, '3'),\n",
       "  Text(4, 0, '4'),\n",
       "  Text(5, 0, '5'),\n",
       "  Text(6, 0, '6'),\n",
       "  Text(7, 0, '7'),\n",
       "  Text(8, 0, '8'),\n",
       "  Text(9, 0, '9'),\n",
       "  Text(10, 0, '10'),\n",
       "  Text(11, 0, '11'),\n",
       "  Text(12, 0, '12'),\n",
       "  Text(13, 0, '13')])"
      ]
     },
     "execution_count": 58,
     "metadata": {},
     "output_type": "execute_result"
    },
    {
     "data": {
      "image/png": "[encoded data removed]",
      "text/plain": [
       "<Figure size 640x480 with 1 Axes>"
      ]
     },
     "metadata": {},
     "output_type": "display_data"
    }
   ],
   "source": [
    "from scipy.stats import binom\n",
    "np.random.seed(888)\n",
    "x = np.arange(0,14,1).astype(int)\n",
    "rv = binom.pmf(x,n = 18, p = 0.25)\n",
    "\n",
    "plt.bar(x, rv)\n",
    "plt.xticks(np.arange(0,14,1))\n"
   ]
  },
  {
   "cell_type": "markdown",
   "id": "4fd361e5-2c9c-4c78-9987-d73833be1f19",
   "metadata": {
    "user_expressions": []
   },
   "source": [
    "### 3.2. Beta Distribution\n",
    "\n",
    "The [order statistics](https://en.wikipedia.org/wiki/Order_statistic) of the uniform distribution are such that follow a Beta distribution. If well here we are not exactly sampling real numbers in $[0,1]$ following the uniform distribution, you can imagine that sampling one single number without repetition from $\\{ 1, 2, 3, \\ldots, N \\}$ is not very different...\n",
    "\n",
    "Compare the distribution of the lowest number in the sample (Part 1) with a [Beta distribution](https://en.wikipedia.org/wiki/Beta_distribution) with adequate choices of parameters. In order to do this, notice that the $k$th order statistics of a sample of $n$ uniformly distributed points in $[0,1]$ is $\\text{Beta}(k, n+1-k)$ (These $n$ and $k$ are not the same as before, you need to pick the right values of these)."
   ]
  },
  {
   "cell_type": "markdown",
   "id": "51d0f4a3-cf48-47f2-bd36-f86ea44dc9ea",
   "metadata": {},
   "source": [
    "**The distribution of the lowest number is very similar to the distribution of the minimum order statistic of 18 order statistics of the uniform [0,1] distribution. While the lowest number distribution is not exactly following Uniform [0,1], drawing a single card from 100 is still a form of uniform distribution [0,N]. Thus, the two distributions are somewhat similar. For the Beta distribution, k = 1, meaning the first order statistic (lowest number), and n+1-k is n or 18.** "
   ]
  },
  {
   "cell_type": "code",
   "execution_count": null,
   "id": "a323b0ca-7bf6-48c1-a9f1-b87bc08d080c",
   "metadata": {},
   "outputs": [
    {
     "data": {
      "text/plain": [
       "(array([1.622e+03, 1.370e+03, 1.204e+03, 9.910e+02, 8.780e+02, 6.870e+02,\n",
       "        5.180e+02, 5.280e+02, 3.850e+02, 3.250e+02, 2.560e+02, 2.560e+02,\n",
       "        1.860e+02, 1.430e+02, 1.290e+02, 1.020e+02, 7.800e+01, 6.500e+01,\n",
       "        6.400e+01, 4.400e+01, 3.100e+01, 3.100e+01, 2.300e+01, 1.300e+01,\n",
       "        1.600e+01, 1.700e+01, 1.300e+01, 3.000e+00, 9.000e+00, 4.000e+00,\n",
       "        4.000e+00, 1.000e+00, 1.000e+00, 0.000e+00, 1.000e+00, 1.000e+00,\n",
       "        0.000e+00, 0.000e+00, 0.000e+00, 1.000e+00]),\n",
       " array([1.50450480e-05, 9.97703158e-03, 1.99390181e-02, 2.99010046e-02,\n",
       "        3.98629912e-02, 4.98249777e-02, 5.97869642e-02, 6.97489507e-02,\n",
       "        7.97109373e-02, 8.96729238e-02, 9.96349103e-02, 1.09596897e-01,\n",
       "        1.19558883e-01, 1.29520870e-01, 1.39482856e-01, 1.49444843e-01,\n",
       "        1.59406829e-01, 1.69368816e-01, 1.79330803e-01, 1.89292789e-01,\n",
       "        1.99254776e-01, 2.09216762e-01, 2.19178749e-01, 2.29140735e-01,\n",
       "        2.39102722e-01, 2.49064708e-01, 2.59026695e-01, 2.68988681e-01,\n",
       "        2.78950668e-01, 2.88912654e-01, 2.98874641e-01, 3.08836627e-01,\n",
       "        3.18798614e-01, 3.28760600e-01, 3.38722587e-01, 3.48684574e-01,\n",
       "        3.58646560e-01, 3.68608547e-01, 3.78570533e-01, 3.88532520e-01,\n",
       "        3.98494506e-01]),\n",
       " <BarContainer object of 40 artists>)"
      ]
     },
     "execution_count": 59,
     "metadata": {},
     "output_type": "execute_result"
    },
    {
     "data": {
      "image/png": "[encoded data removed]",
      "text/plain": [
       "<Figure size 640x480 with 1 Axes>"
      ]
     },
     "metadata": {},
     "output_type": "display_data"
    }
   ],
   "source": [
    "# To Do cell\n",
    "\n",
    "np.random.seed(888)\n",
    "\n",
    "s = np.random.beta(1,18, size = 10000)\n",
    "plt.hist(s, bins = 40)"
   ]
  },
  {
   "cell_type": "markdown",
   "id": "5bc7456e-e4f1-48af-92ef-cbe4177f9871",
   "metadata": {
    "user_expressions": []
   },
   "source": [
    "### 3.3. Exponential Distribution\n",
    "\n",
    "If we call $U_1$ the minimum number in the sample (Part 1), then make an histogram with the distribution of the transformed random variable given by \n",
    "$$\n",
    "X = - \\ln \\left( 1 - \\frac{U_1}{N} \\right)\n",
    "$$\n",
    "and compare this with the distribution of an exponential random variable with parameter $nk$, the total number of cards in the game. "
   ]
  },
  {
   "cell_type": "markdown",
   "id": "66518801-392e-4161-aa8a-7cde2716d176",
   "metadata": {},
   "source": [
    "**If you compare the two distributions they look almost identical, not just in shape but in magnitude as well** "
   ]
  },
  {
   "cell_type": "code",
   "execution_count": null,
   "id": "376c99ac-f6c9-4186-839d-6d06f5bd15a5",
   "metadata": {},
   "outputs": [
    {
     "data": {
      "text/plain": [
       "(array([1.875e+03, 1.443e+03, 1.295e+03, 1.049e+03, 8.100e+02, 6.840e+02,\n",
       "        5.420e+02, 4.130e+02, 3.480e+02, 2.860e+02, 2.280e+02, 1.980e+02,\n",
       "        1.710e+02, 1.250e+02, 1.230e+02, 8.800e+01, 6.700e+01, 5.000e+01,\n",
       "        4.100e+01, 3.300e+01, 3.300e+01, 1.400e+01, 2.500e+01, 1.200e+01,\n",
       "        1.200e+01, 9.000e+00, 9.000e+00, 7.000e+00, 1.000e+00, 2.000e+00,\n",
       "        1.000e+00, 1.000e+00, 1.000e+00, 1.000e+00, 3.000e+00]),\n",
       " array([0.01005034, 0.02020271, 0.03045921, 0.04082199, 0.05129329,\n",
       "        0.0618754 , 0.07257069, 0.08338161, 0.09431068, 0.10536052,\n",
       "        0.11653382, 0.12783337, 0.13926207, 0.15082289, 0.16251893,\n",
       "        0.17435339, 0.18632958, 0.19845094, 0.21072103, 0.22314355,\n",
       "        0.23572233, 0.24846136, 0.26136476, 0.27443685, 0.28768207,\n",
       "        0.30110509, 0.31471074, 0.32850407, 0.34249031, 0.35667494,\n",
       "        0.37106368, 0.40047757, 0.41551544, 0.43078292, 0.46203546,\n",
       "        0.52763274]),\n",
       " <BarContainer object of 35 artists>)"
      ]
     },
     "execution_count": 60,
     "metadata": {},
     "output_type": "execute_result"
    },
    {
     "data": {
      "image/png": "[encoded data removed]",
      "text/plain": [
       "<Figure size 640x480 with 1 Axes>"
      ]
     },
     "metadata": {},
     "output_type": "display_data"
    }
   ],
   "source": [
    "#drawing cards\n",
    "\n",
    "#set seed\n",
    "np.random.seed(888)\n",
    "\n",
    "#create empty list\n",
    "lowest_card_transformed = []\n",
    "\n",
    "#set up simulation\n",
    "for x in range(0,10000):\n",
    "    cards = sample_cards(100, 6, 3)\n",
    "    min_1 = np.min(cards)\n",
    "    big_X = -np.log(1-(min_1/100))\n",
    "    #add lowest card to empty list\n",
    "    lowest_card_transformed.append(big_X)\n",
    "\n",
    "#plot\n",
    "plt.hist(lowest_card_transformed, bins = np.unique(lowest_card_transformed))"
   ]
  },
  {
   "cell_type": "code",
   "execution_count": null,
   "id": "f0340533-75e5-41b1-9765-e89d814ff42c",
   "metadata": {},
   "outputs": [
    {
     "data": {
      "text/plain": [
       "(array([1.808e+03, 1.481e+03, 1.190e+03, 9.640e+02, 8.230e+02, 6.770e+02,\n",
       "        5.530e+02, 4.520e+02, 3.930e+02, 2.920e+02, 2.450e+02, 1.920e+02,\n",
       "        1.690e+02, 1.520e+02, 9.300e+01, 8.900e+01, 8.100e+01, 5.900e+01,\n",
       "        4.000e+01, 4.700e+01, 4.200e+01, 2.600e+01, 2.600e+01, 2.200e+01,\n",
       "        1.800e+01, 1.700e+01, 1.000e+01, 4.000e+00, 6.000e+00, 6.000e+00,\n",
       "        4.000e+00, 3.000e+00, 3.000e+00, 2.000e+00, 0.000e+00, 1.000e+00,\n",
       "        0.000e+00, 1.000e+00, 1.000e+00, 0.000e+00, 0.000e+00, 3.000e+00,\n",
       "        0.000e+00, 1.000e+00, 1.000e+00, 0.000e+00, 1.000e+00, 0.000e+00,\n",
       "        0.000e+00, 2.000e+00]),\n",
       " array([2.31196021e-05, 1.11725219e-02, 2.23219241e-02, 3.34713264e-02,\n",
       "        4.46207287e-02, 5.57701310e-02, 6.69195332e-02, 7.80689355e-02,\n",
       "        8.92183378e-02, 1.00367740e-01, 1.11517142e-01, 1.22666545e-01,\n",
       "        1.33815947e-01, 1.44965349e-01, 1.56114751e-01, 1.67264154e-01,\n",
       "        1.78413556e-01, 1.89562958e-01, 2.00712361e-01, 2.11861763e-01,\n",
       "        2.23011165e-01, 2.34160567e-01, 2.45309970e-01, 2.56459372e-01,\n",
       "        2.67608774e-01, 2.78758176e-01, 2.89907579e-01, 3.01056981e-01,\n",
       "        3.12206383e-01, 3.23355785e-01, 3.34505188e-01, 3.45654590e-01,\n",
       "        3.56803992e-01, 3.67953395e-01, 3.79102797e-01, 3.90252199e-01,\n",
       "        4.01401601e-01, 4.12551004e-01, 4.23700406e-01, 4.34849808e-01,\n",
       "        4.45999210e-01, 4.57148613e-01, 4.68298015e-01, 4.79447417e-01,\n",
       "        4.90596820e-01, 5.01746222e-01, 5.12895624e-01, 5.24045026e-01,\n",
       "        5.35194429e-01, 5.46343831e-01, 5.57493233e-01]),\n",
       " <BarContainer object of 50 artists>)"
      ]
     },
     "execution_count": 61,
     "metadata": {},
     "output_type": "execute_result"
    },
    {
     "data": {
      "image/png": "[encoded data removed]",
      "text/plain": [
       "<Figure size 640x480 with 1 Axes>"
      ]
     },
     "metadata": {},
     "output_type": "display_data"
    }
   ],
   "source": [
    "#simulation\n",
    "np.random.seed(888)\n",
    "\n",
    "plt.hist(np.random.exponential(1/18, size = 10000), bins = 50)"
   ]
  },
  {
   "cell_type": "markdown",
   "id": "0ad19b6e-5603-4b66-b379-6b79f5aaedf6",
   "metadata": {
    "user_expressions": []
   },
   "source": [
    "### 4. What happens when $n * k << N$?\n",
    "\n",
    "Some of the distribution we saw in previous sections are just approximate. Study what happens when we increase the number of cards. Try to understand how the cases of sampling with and without reposition compare as $n * k << N$. What do you expect to see in these cases? When the difference between the two sampling strategies will lead to similar or different results. "
   ]
  },
  {
   "cell_type": "markdown",
   "id": "9e404b46-1876-4773-bac1-0aee5f7b5e4c",
   "metadata": {},
   "source": [
    "**Above I have already discussed scenarios where the number of cards in the game is increased. In such a case, the largest consecutive gap decreases because the cards are drawn without replacement. As n times k grows increasingly smaller relative to N, the size of the largest consecutive gap increases. With less people and cards in play, there is a higher chance of dealing cards that are far apart. This was mainly for the case of without replacement**\n",
    "\n",
    "**As n times k gets smaller for draws with replacement, one interesting occurrence is that it can get to the point where there is no consecutive gap that is not within a players hand. What I mean is, for example, if there are only two cards in each players hand, and small number of players, it can be possible for all players to have the same cards when drawing with replacement. That is why below, the example with 4 players and 2 cards does not produce a graph! The code breaks when it encounters a case where there are no consecutive gaps that are not in a single player's hand.**\n",
    "\n",
    "**However, this still doesn't really address the case where n times k is much much smaller than N. In order to observe this, I created some final code chunks that compared sampling with and without replacement. However, I increase big N to 1000 and kept n times k relatively small. This allowed me to show a scenario when n times k is much much smaller than N. After I did this, I saw that the distributions with and without replacement appeared nearly identical. This goes to show that as the population size grows relative to the sample size, the difference between drawing with and without replacement grows minimal/insignificant.**"
   ]
  },
  {
   "cell_type": "code",
   "execution_count": null,
   "id": "5d8024a3-9553-4c9a-a0bb-7e787905c793",
   "metadata": {},
   "outputs": [
    {
     "ename": "ValueError",
     "evalue": "zero-size array to reduction operation maximum which has no identity",
     "output_type": "error",
     "traceback": [
      "\u001b[0;31m---------------------------------------------------------------------------\u001b[0m",
      "\u001b[0;31mValueError\u001b[0m                                Traceback (most recent call last)",
      "Cell \u001b[0;32mIn[62], line 34\u001b[0m\n\u001b[1;32m     32\u001b[0m         \u001b[38;5;28;01mif\u001b[39;00m (\u001b[38;5;124m\"\u001b[39m\u001b[38;5;124minvalid\u001b[39m\u001b[38;5;124m\"\u001b[39m \u001b[38;5;129;01mnot\u001b[39;00m \u001b[38;5;129;01min\u001b[39;00m logic_test):\n\u001b[1;32m     33\u001b[0m             diffs\u001b[38;5;241m.\u001b[39mappend(diff)\n\u001b[0;32m---> 34\u001b[0m     biggest_gapbtwn4_wr\u001b[38;5;241m.\u001b[39mappend(\u001b[43mnp\u001b[49m\u001b[38;5;241;43m.\u001b[39;49m\u001b[43mmax\u001b[49m\u001b[43m(\u001b[49m\u001b[43mdiffs\u001b[49m\u001b[43m)\u001b[49m)\n\u001b[1;32m     36\u001b[0m biggest_gapsbtwn4_wr \u001b[38;5;241m=\u001b[39m np\u001b[38;5;241m.\u001b[39marray(biggest_gapbtwn4_wr)\n\u001b[1;32m     37\u001b[0m \u001b[38;5;28mprint\u001b[39m(np\u001b[38;5;241m.\u001b[39mmax(biggest_gapsbtwn4_wr))\n",
      "File \u001b[0;32m<__array_function__ internals>:5\u001b[0m, in \u001b[0;36mamax\u001b[0;34m(*args, **kwargs)\u001b[0m\n",
      "File \u001b[0;32m/opt/conda/lib/python3.9/site-packages/numpy/core/fromnumeric.py:2754\u001b[0m, in \u001b[0;36mamax\u001b[0;34m(a, axis, out, keepdims, initial, where)\u001b[0m\n\u001b[1;32m   2638\u001b[0m \u001b[38;5;129m@array_function_dispatch\u001b[39m(_amax_dispatcher)\n\u001b[1;32m   2639\u001b[0m \u001b[38;5;28;01mdef\u001b[39;00m \u001b[38;5;21mamax\u001b[39m(a, axis\u001b[38;5;241m=\u001b[39m\u001b[38;5;28;01mNone\u001b[39;00m, out\u001b[38;5;241m=\u001b[39m\u001b[38;5;28;01mNone\u001b[39;00m, keepdims\u001b[38;5;241m=\u001b[39mnp\u001b[38;5;241m.\u001b[39m_NoValue, initial\u001b[38;5;241m=\u001b[39mnp\u001b[38;5;241m.\u001b[39m_NoValue,\n\u001b[1;32m   2640\u001b[0m          where\u001b[38;5;241m=\u001b[39mnp\u001b[38;5;241m.\u001b[39m_NoValue):\n\u001b[1;32m   2641\u001b[0m \u001b[38;5;250m    \u001b[39m\u001b[38;5;124;03m\"\"\"\u001b[39;00m\n\u001b[1;32m   2642\u001b[0m \u001b[38;5;124;03m    Return the maximum of an array or maximum along an axis.\u001b[39;00m\n\u001b[1;32m   2643\u001b[0m \n\u001b[0;32m   (...)\u001b[0m\n\u001b[1;32m   2752\u001b[0m \u001b[38;5;124;03m    5\u001b[39;00m\n\u001b[1;32m   2753\u001b[0m \u001b[38;5;124;03m    \"\"\"\u001b[39;00m\n\u001b[0;32m-> 2754\u001b[0m     \u001b[38;5;28;01mreturn\u001b[39;00m \u001b[43m_wrapreduction\u001b[49m\u001b[43m(\u001b[49m\u001b[43ma\u001b[49m\u001b[43m,\u001b[49m\u001b[43m \u001b[49m\u001b[43mnp\u001b[49m\u001b[38;5;241;43m.\u001b[39;49m\u001b[43mmaximum\u001b[49m\u001b[43m,\u001b[49m\u001b[43m \u001b[49m\u001b[38;5;124;43m'\u001b[39;49m\u001b[38;5;124;43mmax\u001b[39;49m\u001b[38;5;124;43m'\u001b[39;49m\u001b[43m,\u001b[49m\u001b[43m \u001b[49m\u001b[43maxis\u001b[49m\u001b[43m,\u001b[49m\u001b[43m \u001b[49m\u001b[38;5;28;43;01mNone\u001b[39;49;00m\u001b[43m,\u001b[49m\u001b[43m \u001b[49m\u001b[43mout\u001b[49m\u001b[43m,\u001b[49m\n\u001b[1;32m   2755\u001b[0m \u001b[43m                          \u001b[49m\u001b[43mkeepdims\u001b[49m\u001b[38;5;241;43m=\u001b[39;49m\u001b[43mkeepdims\u001b[49m\u001b[43m,\u001b[49m\u001b[43m \u001b[49m\u001b[43minitial\u001b[49m\u001b[38;5;241;43m=\u001b[39;49m\u001b[43minitial\u001b[49m\u001b[43m,\u001b[49m\u001b[43m \u001b[49m\u001b[43mwhere\u001b[49m\u001b[38;5;241;43m=\u001b[39;49m\u001b[43mwhere\u001b[49m\u001b[43m)\u001b[49m\n",
      "File \u001b[0;32m/opt/conda/lib/python3.9/site-packages/numpy/core/fromnumeric.py:86\u001b[0m, in \u001b[0;36m_wrapreduction\u001b[0;34m(obj, ufunc, method, axis, dtype, out, **kwargs)\u001b[0m\n\u001b[1;32m     83\u001b[0m         \u001b[38;5;28;01melse\u001b[39;00m:\n\u001b[1;32m     84\u001b[0m             \u001b[38;5;28;01mreturn\u001b[39;00m reduction(axis\u001b[38;5;241m=\u001b[39maxis, out\u001b[38;5;241m=\u001b[39mout, \u001b[38;5;241m*\u001b[39m\u001b[38;5;241m*\u001b[39mpasskwargs)\n\u001b[0;32m---> 86\u001b[0m \u001b[38;5;28;01mreturn\u001b[39;00m \u001b[43mufunc\u001b[49m\u001b[38;5;241;43m.\u001b[39;49m\u001b[43mreduce\u001b[49m\u001b[43m(\u001b[49m\u001b[43mobj\u001b[49m\u001b[43m,\u001b[49m\u001b[43m \u001b[49m\u001b[43maxis\u001b[49m\u001b[43m,\u001b[49m\u001b[43m \u001b[49m\u001b[43mdtype\u001b[49m\u001b[43m,\u001b[49m\u001b[43m \u001b[49m\u001b[43mout\u001b[49m\u001b[43m,\u001b[49m\u001b[43m \u001b[49m\u001b[38;5;241;43m*\u001b[39;49m\u001b[38;5;241;43m*\u001b[39;49m\u001b[43mpasskwargs\u001b[49m\u001b[43m)\u001b[49m\n",
      "\u001b[0;31mValueError\u001b[0m: zero-size array to reduction operation maximum which has no identity"
     ]
    }
   ],
   "source": [
    "# To Do cell\n",
    "\n",
    "#I have chosen n and k such that this code will break\n",
    "#in the model without replacement, the code will not break. \n",
    "#With replacement, there are no consecutive differences not within \n",
    "#within a single players hands. \n",
    "\n",
    "#between players\n",
    "biggest_gapbtwn4_wr = []\n",
    "\n",
    "np.random.seed(888)\n",
    "\n",
    "n = 4\n",
    "k = 2\n",
    "big_N = 100\n",
    "cards_ig = k*n\n",
    "\n",
    "for x in range(0,10000):\n",
    "    cards = sample_cards_wr(big_N, n, k)\n",
    "    all_cards = np.sort(cards.flatten())\n",
    "    diffs=[]\n",
    "    for i in range(0,cards_ig-1):\n",
    "        a = all_cards[i+1]\n",
    "        b = all_cards[i]\n",
    "        diff = a-b\n",
    "        logic_test = []\n",
    "        for i in range(0,len(cards)):\n",
    "            if (a & b in cards[i,:]):\n",
    "                logic_test.append(\"invalid\")\n",
    "            else: \n",
    "                logic_test.append(\"valid\")\n",
    "        if (\"invalid\" not in logic_test):\n",
    "            diffs.append(diff)\n",
    "    biggest_gapbtwn4_wr.append(np.max(diffs))\n",
    "\n",
    "biggest_gapsbtwn4_wr = np.array(biggest_gapbtwn4_wr)\n",
    "print(np.max(biggest_gapsbtwn4_wr))\n",
    "plt.hist(biggest_gapsbtwn4_wr, bins = np.unique(biggest_gapsbtwn4_wr))\n"
   ]
  },
  {
   "cell_type": "code",
   "execution_count": null,
   "id": "fb2d4aab",
   "metadata": {},
   "outputs": [
    {
     "name": "stdout",
     "output_type": "stream",
     "text": [
      "513\n"
     ]
    },
    {
     "data": {
      "text/plain": [
       "(array([8.500e+01, 2.100e+03, 4.053e+03, 2.412e+03, 9.140e+02, 3.010e+02,\n",
       "        9.800e+01, 2.600e+01, 8.000e+00, 3.000e+00]),\n",
       " array([ 42. ,  89.1, 136.2, 183.3, 230.4, 277.5, 324.6, 371.7, 418.8,\n",
       "        465.9, 513. ]),\n",
       " <BarContainer object of 10 artists>)"
      ]
     },
     "execution_count": 63,
     "metadata": {},
     "output_type": "execute_result"
    },
    {
     "data": {
      "image/png": "[encoded data removed]",
      "text/plain": [
       "<Figure size 640x480 with 1 Axes>"
      ]
     },
     "metadata": {},
     "output_type": "display_data"
    }
   ],
   "source": [
    "#I have increased big N by a lot and draw with replacement\n",
    "biggest_gapbtwn5 = []\n",
    "\n",
    "np.random.seed(888)\n",
    "\n",
    "n = 3\n",
    "k = 6\n",
    "big_N = 1000\n",
    "cards_ig = k*n\n",
    "\n",
    "for x in range(0,10000):\n",
    "    cards = sample_cards_wr(big_N, n, k)\n",
    "    all_cards = np.sort(cards.flatten())\n",
    "    diffs=[]\n",
    "    for i in range(0,cards_ig-1):\n",
    "        a = all_cards[i+1]\n",
    "        b = all_cards[i]\n",
    "        diff = a-b\n",
    "        logic_test = []\n",
    "        for i in range(0,len(cards)):\n",
    "            if (a & b in cards[i,:]):\n",
    "                logic_test.append(\"invalid\")\n",
    "            else: \n",
    "                logic_test.append(\"valid\")\n",
    "        if (\"invalid\" not in logic_test):\n",
    "            diffs.append(diff)\n",
    "    biggest_gapbtwn5.append(np.max(diffs))\n",
    "\n",
    "biggest_gapsbtwn5 = np.array(biggest_gapbtwn5)\n",
    "print(np.max(biggest_gapsbtwn5))\n",
    "plt.hist(biggest_gapsbtwn5)#, bins = np.unique(biggest_gapsbtwn5))"
   ]
  },
  {
   "cell_type": "code",
   "execution_count": null,
   "id": "e69503b5",
   "metadata": {},
   "outputs": [
    {
     "name": "stdout",
     "output_type": "stream",
     "text": [
      "476\n"
     ]
    },
    {
     "data": {
      "text/plain": [
       "(array([1.640e+02, 2.239e+03, 3.558e+03, 2.425e+03, 1.015e+03, 4.020e+02,\n",
       "        1.310e+02, 4.600e+01, 1.700e+01, 3.000e+00]),\n",
       " array([ 53. ,  95.3, 137.6, 179.9, 222.2, 264.5, 306.8, 349.1, 391.4,\n",
       "        433.7, 476. ]),\n",
       " <BarContainer object of 10 artists>)"
      ]
     },
     "execution_count": 64,
     "metadata": {},
     "output_type": "execute_result"
    },
    {
     "data": {
      "image/png": "[encoded data removed]",
      "text/plain": [
       "<Figure size 640x480 with 1 Axes>"
      ]
     },
     "metadata": {},
     "output_type": "display_data"
    }
   ],
   "source": [
    "#I have increased big N by a lot and draw without replacement\n",
    "\n",
    "biggest_gapbtwn6 = []\n",
    "\n",
    "np.random.seed(888)\n",
    "\n",
    "n = 3\n",
    "k = 6\n",
    "big_N = 1000\n",
    "cards_ig = k*n\n",
    "\n",
    "for x in range(0,10000):\n",
    "    cards = sample_cards(big_N, n, k)\n",
    "    all_cards = np.sort(cards.flatten())\n",
    "    diffs=[]\n",
    "    for i in range(0,cards_ig-1):\n",
    "        a = all_cards[i+1]\n",
    "        b = all_cards[i]\n",
    "        diff = a-b\n",
    "        logic_test = []\n",
    "        for i in range(0,len(cards)):\n",
    "            if (a & b in cards[i,:]):\n",
    "                logic_test.append(\"invalid\")\n",
    "            else: \n",
    "                logic_test.append(\"valid\")\n",
    "        if (\"invalid\" not in logic_test):\n",
    "            diffs.append(diff)\n",
    "    biggest_gapbtwn6.append(np.max(diffs))\n",
    "\n",
    "biggest_gapsbtwn6 = np.array(biggest_gapbtwn6)\n",
    "print(np.max(biggest_gapsbtwn6))\n",
    "plt.hist(biggest_gapsbtwn6)#, bins = np.unique(biggest_gapsbtwn6))"
   ]
  },
  {
   "cell_type": "markdown",
   "id": "d944ef54-38c2-46dc-a74f-2383625f9021",
   "metadata": {
    "user_expressions": []
   },
   "source": [
    "### Contribution statement\n",
    "\n",
    "Please include a list of the students you work with along this project (including yourself). Include both names and GitHub usernames of the people you collaborated with. Maximum of three persons per group. \n",
    "- Member No1: Julia Verdickt (Github username: juliaverdickt) \n",
    "- Member No2: \n",
    "- Member No3:"
   ]
  }
 ],
 "metadata": {
  "kernelspec": {
   "display_name": "Python 3 (ipykernel)",
   "language": "python",
   "name": "python3"
  },
  "language_info": {
   "codemirror_mode": {
    "name": "ipython",
    "version": 3
   },
   "file_extension": ".py",
   "mimetype": "text/x-python",
   "name": "python",
   "nbconvert_exporter": "python",
   "pygments_lexer": "ipython3",
   "version": "3.11.5"
  }
 },
 "nbformat": 4,
 "nbformat_minor": 5
}
